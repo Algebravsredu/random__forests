{
 "cells": [
  {
   "cell_type": "markdown",
   "id": "5eb6f18a",
   "metadata": {},
   "source": [
    "# Классификация MNIST с применением алгоритма случайных лесов"
   ]
  },
  {
   "cell_type": "markdown",
   "id": "eedd57da",
   "metadata": {},
   "source": [
    "Набор данных MNIST представляет собой набор изображений из 70 000 чисел, написанных от руки. Каждое изображение помечено своим номером.\n",
    "Получаем набор данных из openml по идентификатору набора данных"
   ]
  },
  {
   "cell_type": "code",
   "execution_count": 1,
   "id": "459cd4be",
   "metadata": {},
   "outputs": [],
   "source": [
    "from sklearn.datasets import fetch_openml\n",
    "mnist = fetch_openml('mnist_784', version = 1)"
   ]
  },
  {
   "cell_type": "markdown",
   "id": "046f26a4",
   "metadata": {},
   "source": [
    "Разбиение датасета MNIST на данные для обучения и тестирования с использованием модуля train_test_split из библиотеки sklearn. "
   ]
  },
  {
   "cell_type": "code",
   "execution_count": 19,
   "id": "a7ed73b6",
   "metadata": {},
   "outputs": [],
   "source": [
    "from sklearn.model_selection import train_test_split\n",
    "X_train, X_test, y_train, y_test = train_test_split(mnist.data, mnist.target, test_size=0.2)"
   ]
  },
  {
   "cell_type": "markdown",
   "id": "75f9d769",
   "metadata": {},
   "source": [
    "Обучение модели "
   ]
  },
  {
   "cell_type": "code",
   "execution_count": null,
   "id": "950c31e7",
   "metadata": {},
   "outputs": [],
   "source": [
    "from sklearn.ensemble import RandomForestClassifier\n",
    "rf_clf = RandomForestClassifier(random_state=42)\n",
    "rf_clf.fit(X_train, y_train)"
   ]
  },
  {
   "cell_type": "markdown",
   "id": "f4b5d021",
   "metadata": {},
   "source": [
    "Прогнозирование результатов классификации "
   ]
  },
  {
   "cell_type": "code",
   "execution_count": 35,
   "id": "a28ef65e",
   "metadata": {},
   "outputs": [],
   "source": [
    "y_pred = rf_clf.predict(X_test)"
   ]
  },
  {
   "cell_type": "markdown",
   "id": "78afb070",
   "metadata": {},
   "source": [
    "Точность количества правильных прогнозов "
   ]
  },
  {
   "cell_type": "code",
   "execution_count": 40,
   "id": "ab1f5e66",
   "metadata": {},
   "outputs": [
    {
     "data": {
      "text/plain": [
       "0.9703571428571428"
      ]
     },
     "execution_count": 40,
     "metadata": {},
     "output_type": "execute_result"
    }
   ],
   "source": [
    "from sklearn.metrics import accuracy_score\n",
    "accuracy_score(y_pred, y_test)"
   ]
  },
  {
   "cell_type": "markdown",
   "id": "48e36aa9",
   "metadata": {},
   "source": [
    "Создание отчета о классификации и матрицы путаницы"
   ]
  },
  {
   "cell_type": "code",
   "execution_count": 41,
   "id": "93e22ba3",
   "metadata": {},
   "outputs": [
    {
     "name": "stdout",
     "output_type": "stream",
     "text": [
      "Classification Report\n",
      "              precision    recall  f1-score   support\n",
      "\n",
      "           0       0.98      0.99      0.99      1386\n",
      "           1       0.98      0.98      0.98      1597\n",
      "           2       0.96      0.97      0.97      1360\n",
      "           3       0.96      0.95      0.96      1421\n",
      "           4       0.97      0.97      0.97      1359\n",
      "           5       0.98      0.97      0.97      1294\n",
      "           6       0.98      0.99      0.98      1353\n",
      "           7       0.97      0.96      0.97      1453\n",
      "           8       0.96      0.96      0.96      1369\n",
      "           9       0.96      0.95      0.96      1408\n",
      "\n",
      "    accuracy                           0.97     14000\n",
      "   macro avg       0.97      0.97      0.97     14000\n",
      "weighted avg       0.97      0.97      0.97     14000\n",
      "\n",
      "Confusion Report\n",
      "[[1369    0    2    1    0    1    7    0    5    1]\n",
      " [   0 1573    9    4    0    1    3    4    0    3]\n",
      " [   3    3 1325    7    5    1    2   10    4    0]\n",
      " [   2    2   17 1356    0    7    3   14   16    4]\n",
      " [   3    2    2    0 1321    0    4    1    1   25]\n",
      " [   7    0    2   10    6 1251    5    1    8    4]\n",
      " [   3    1    1    0    2    6 1334    0    6    0]\n",
      " [   1    5   20    0   11    0    0 1402    2   12]\n",
      " [   2    8    5    9    7    7    5    4 1312   10]\n",
      " [   2    3    2   19   16    4    0    9   11 1342]]\n"
     ]
    }
   ],
   "source": [
    "print (\"Classification Report\")\n",
    "print(classification_report(y_test, y_pred))\n",
    "print (\"Confusion Report\")\n",
    "print(confusion_matrix(y_test, y_pred))"
   ]
  },
  {
   "cell_type": "code",
   "execution_count": null,
   "id": "608d02b2",
   "metadata": {},
   "outputs": [],
   "source": []
  }
 ],
 "metadata": {
  "kernelspec": {
   "display_name": "Python 3 (ipykernel)",
   "language": "python",
   "name": "python3"
  },
  "language_info": {
   "codemirror_mode": {
    "name": "ipython",
    "version": 3
   },
   "file_extension": ".py",
   "mimetype": "text/x-python",
   "name": "python",
   "nbconvert_exporter": "python",
   "pygments_lexer": "ipython3",
   "version": "3.8.8"
  }
 },
 "nbformat": 4,
 "nbformat_minor": 5
}
